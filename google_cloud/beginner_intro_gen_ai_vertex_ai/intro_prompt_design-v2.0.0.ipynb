{
 "cells": [
  {
   "cell_type": "code",
   "execution_count": null,
   "metadata": {
    "id": "ur8xi4C7S06n"
   },
   "outputs": [],
   "source": [
    "# Copyright 2025 Google LLC\n",
    "#\n",
    "# Licensed under the Apache License, Version 2.0 (the \"License\");\n",
    "# you may not use this file except in compliance with the License.\n",
    "# You may obtain a copy of the License at\n",
    "#\n",
    "#     https://www.apache.org/licenses/LICENSE-2.0\n",
    "#\n",
    "# Unless required by applicable law or agreed to in writing, software\n",
    "# distributed under the License is distributed on an \"AS IS\" BASIS,\n",
    "# WITHOUT WARRANTIES OR CONDITIONS OF ANY KIND, either express or implied.\n",
    "# See the License for the specific language governing permissions and\n",
    "# limitations under the License."
   ]
  },
  {
   "cell_type": "markdown",
   "metadata": {
    "id": "JAPoU8Sm5E6e"
   },
   "source": [
    "# Prompt Design - Best Practices\n",
    "\n",
    "<table align=\"left\">\n",
    "  <td style=\"text-align: center\">\n",
    "    <a href=\"https://colab.research.google.com/github/GoogleCloudPlatform/generative-ai/blob/main/gemini/prompts/intro_prompt_design.ipynb\">\n",
    "      <img width=\"32px\" src=\"https://www.gstatic.com/pantheon/images/bigquery/welcome_page/colab-logo.svg\" alt=\"Google Colaboratory logo\"><br> Open in Colab\n",
    "    </a>\n",
    "  </td>\n",
    "  <td style=\"text-align: center\">\n",
    "    <a href=\"https://console.cloud.google.com/vertex-ai/colab/import/https:%2F%2Fraw.githubusercontent.com%2FGoogleCloudPlatform%2Fgenerative-ai%2Fmain%2Fgemini%2Fprompts%2Fintro_prompt_design.ipynb\">\n",
    "      <img width=\"32px\" src=\"https://lh3.googleusercontent.com/JmcxdQi-qOpctIvWKgPtrzZdJJK-J3sWE1RsfjZNwshCFgE_9fULcNpuXYTilIR2hjwN\" alt=\"Google Cloud Colab Enterprise logo\"><br> Open in Colab Enterprise\n",
    "    </a>\n",
    "  </td>\n",
    "  <td style=\"text-align: center\">\n",
    "    <a href=\"https://console.cloud.google.com/vertex-ai/workbench/deploy-notebook?download_url=https://raw.githubusercontent.com/GoogleCloudPlatform/generative-ai/main/gemini/prompts/intro_prompt_design.ipynb\">\n",
    "      <img src=\"https://www.gstatic.com/images/branding/gcpiconscolors/vertexai/v1/32px.svg\" alt=\"Vertex AI logo\"><br> Open in Workbench\n",
    "    </a>\n",
    "  </td>\n",
    "  <td style=\"text-align: center\">\n",
    "    <a href=\"https://github.com/GoogleCloudPlatform/generative-ai/blob/main/gemini/prompts/intro_prompt_design.ipynb\">\n",
    "      <img width=\"32px\" src=\"https://www.svgrepo.com/download/217753/github.svg\" alt=\"GitHub logo\"><br> View on GitHub\n",
    "    </a>\n",
    "  </td>\n",
    "  <td style=\"text-align: center\">\n",
    "    <a href=\"https://goo.gle/4fWHlze\">\n",
    "      <img width=\"32px\" src=\"https://cdn.qwiklabs.com/assets/gcp_cloud-e3a77215f0b8bfa9b3f611c0d2208c7e8708ed31.svg\" alt=\"Google Cloud logo\"><br> Open in  Cloud Skills Boost\n",
    "    </a>\n",
    "  </td>\n",
    "</table>\n",
    "\n",
    "<div style=\"clear: both;\"></div>\n",
    "\n",
    "<b>Share to:</b>\n",
    "\n",
    "<a href=\"https://www.linkedin.com/sharing/share-offsite/?url=https%3A//github.com/GoogleCloudPlatform/generative-ai/blob/main/gemini/prompts/intro_prompt_design.ipynb\" target=\"_blank\">\n",
    "  <img width=\"20px\" src=\"https://upload.wikimedia.org/wikipedia/commons/8/81/LinkedIn_icon.svg\" alt=\"LinkedIn logo\">\n",
    "</a>\n",
    "<a href=\"https://bsky.app/intent/compose?text=https%3A//github.com/GoogleCloudPlatform/generative-ai/blob/main/gemini/prompts/intro_prompt_design.ipynb\" target=\"_blank\">\n",
    "  <img width=\"20px\" src=\"https://upload.wikimedia.org/wikipedia/commons/7/7a/Bluesky_Logo.svg\" alt=\"Bluesky logo\">\n",
    "</a>\n",
    "<a href=\"https://twitter.com/intent/tweet?url=https%3A//github.com/GoogleCloudPlatform/generative-ai/blob/main/gemini/prompts/intro_prompt_design.ipynb\" target=\"_blank\">\n",
    "  <img width=\"20px\" src=\"https://upload.wikimedia.org/wikipedia/commons/5/5a/X_icon_2.svg\" alt=\"X logo\">\n",
    "</a>\n",
    "<a href=\"https://reddit.com/submit?url=https%3A//github.com/GoogleCloudPlatform/generative-ai/blob/main/gemini/prompts/intro_prompt_design.ipynb\" target=\"_blank\">\n",
    "  <img width=\"20px\" src=\"https://redditinc.com/hubfs/Reddit%20Inc/Brand/Reddit_Logo.png\" alt=\"Reddit logo\">\n",
    "</a>\n",
    "<a href=\"https://www.facebook.com/sharer/sharer.php?u=https%3A//github.com/GoogleCloudPlatform/generative-ai/blob/main/gemini/prompts/intro_prompt_design.ipynb\" target=\"_blank\">\n",
    "  <img width=\"20px\" src=\"https://upload.wikimedia.org/wikipedia/commons/5/51/Facebook_f_logo_%282019%29.svg\" alt=\"Facebook logo\">\n",
    "</a>"
   ]
  },
  {
   "cell_type": "markdown",
   "metadata": {
    "id": "84f0f73a0f76"
   },
   "source": [
    "| Authors |\n",
    "| --- |\n",
    "| [Polong Lin](https://github.com/polong-lin) |\n",
    "| [Karl Weinmeister](https://github.com/kweinmeister) |"
   ]
  },
  {
   "cell_type": "markdown",
   "metadata": {
    "id": "tvgnzT1CKxrO"
   },
   "source": [
    "## Overview\n",
    "\n",
    "This notebook covers the essentials of prompt engineering, including some best practices.\n",
    "\n",
    "Learn more about prompt design in the [official documentation](https://cloud.google.com/vertex-ai/docs/generative-ai/text/text-overview).\n",
    "\n",
    "In this notebook, you learn best practices around prompt engineering -- how to design prompts to improve the quality of your responses.\n",
    "\n",
    "This notebook covers the following best practices for prompt engineering:\n",
    "\n",
    "- Be concise\n",
    "- Be specific and well-defined\n",
    "- Ask one task at a time\n",
    "- Turn generative tasks into classification tasks\n",
    "- Improve response quality by including examples"
   ]
  },
  {
   "cell_type": "markdown",
   "metadata": {},
   "source": [
    "## System Instructions for LLMs\n",
    "\n",
    "https://cloud.google.com/vertex-ai/generative-ai/docs/learn/prompts/system-instruction-introduction#context"
   ]
  },
  {
   "cell_type": "markdown",
   "metadata": {
    "id": "61RBz8LLbxCR"
   },
   "source": [
    "## Getting Started"
   ]
  },
  {
   "cell_type": "markdown",
   "metadata": {
    "id": "No17Cw5hgx12"
   },
   "source": [
    "### Install Google Gen AI SDK\n"
   ]
  },
  {
   "cell_type": "code",
   "execution_count": 1,
   "metadata": {
    "id": "tFy3H3aPgx12",
    "tags": []
   },
   "outputs": [
    {
     "name": "stdout",
     "output_type": "stream",
     "text": [
      "Note: you may need to restart the kernel to use updated packages.\n"
     ]
    }
   ],
   "source": [
    "%pip install --upgrade --quiet google-genai"
   ]
  },
  {
   "cell_type": "markdown",
   "metadata": {
    "id": "06489bd14f16"
   },
   "source": [
    "### Import libraries\n"
   ]
  },
  {
   "cell_type": "code",
   "execution_count": 2,
   "metadata": {
    "id": "154137022fb6",
    "tags": []
   },
   "outputs": [],
   "source": [
    "from IPython.display import Markdown, display\n",
    "from google import genai\n",
    "from google.genai.types import GenerateContentConfig"
   ]
  },
  {
   "cell_type": "markdown",
   "metadata": {
    "id": "DF4l8DTdWgPY"
   },
   "source": [
    "### Set Google Cloud project information and create client\n",
    "\n",
    "To get started using Vertex AI, you must have an existing Google Cloud project and [enable the Vertex AI API](https://console.cloud.google.com/flows/enableapi?apiid=aiplatform.googleapis.com).\n",
    "\n",
    "Learn more about [setting up a project and a development environment](https://cloud.google.com/vertex-ai/docs/start/cloud-environment)."
   ]
  },
  {
   "cell_type": "code",
   "execution_count": 3,
   "metadata": {
    "id": "Nqwi-5ufWp_B",
    "tags": []
   },
   "outputs": [],
   "source": [
    "import os\n",
    "\n",
    "PROJECT_ID = \"qwiklabs-gcp-01-310a7c516cf7\"  # @param {type: \"string\", placeholder: \"[your-project-id]\", isTemplate: true}\n",
    "if not PROJECT_ID or PROJECT_ID == \"qwiklabs-gcp-01-310a7c516cf7\":\n",
    "    PROJECT_ID = str(os.environ.get(\"GOOGLE_CLOUD_PROJECT\"))\n",
    "\n",
    "LOCATION = \"us-central1\""
   ]
  },
  {
   "cell_type": "code",
   "execution_count": 4,
   "metadata": {
    "id": "QqRWdPGmW3NJ",
    "tags": []
   },
   "outputs": [],
   "source": [
    "client = genai.Client(vertexai=True, project=PROJECT_ID, location=LOCATION)"
   ]
  },
  {
   "cell_type": "markdown",
   "metadata": {
    "id": "OnFPpCRtXRl4"
   },
   "source": [
    "### Load model\n",
    "\n",
    "Learn more about all [Gemini models on Vertex AI](https://cloud.google.com/vertex-ai/generative-ai/docs/learn/models#gemini-models)."
   ]
  },
  {
   "cell_type": "code",
   "execution_count": 5,
   "metadata": {
    "id": "IQYu_9SvXQah",
    "tags": []
   },
   "outputs": [],
   "source": [
    "MODEL_ID = \"gemini-2.5-flash\"  # @param {type: \"string\"}"
   ]
  },
  {
   "cell_type": "markdown",
   "metadata": {
    "id": "cVOtUNJ5X0PY"
   },
   "source": [
    "## Prompt engineering best practices"
   ]
  },
  {
   "cell_type": "markdown",
   "metadata": {
    "id": "uv_e0fEPX60q"
   },
   "source": [
    "Prompt engineering is all about how to design your prompts so that the response is what you were indeed hoping to see.\n",
    "\n",
    "The idea of using \"unfancy\" prompts is to minimize the noise in your prompt to reduce the possibility of the LLM misinterpreting the intent of the prompt. Below are a few guidelines on how to engineer \"unfancy\" prompts.\n",
    "\n",
    "In this section, you'll cover the following best practices when engineering prompts:\n",
    "\n",
    "* Be concise\n",
    "* Be specific, and well-defined\n",
    "* Ask one task at a time\n",
    "* Improve response quality by including examples\n",
    "* Turn generative tasks to classification tasks to improve safety"
   ]
  },
  {
   "cell_type": "markdown",
   "metadata": {
    "id": "0pY4XX0OX9_Y"
   },
   "source": [
    "### Be concise"
   ]
  },
  {
   "cell_type": "markdown",
   "metadata": {
    "id": "xlRpxyxGYA1K"
   },
   "source": [
    "🛑 Not recommended. The prompt below is unnecessarily verbose."
   ]
  },
  {
   "cell_type": "code",
   "execution_count": 6,
   "metadata": {
    "id": "YKV4G-CfXdbi",
    "tags": []
   },
   "outputs": [
    {
     "data": {
      "text/markdown": [
       "That's a great niche! Dried flowers evoke a sense of timelessness, rustic charm, and enduring beauty. Here are some name ideas, categorized by their vibe:\n",
       "\n",
       "**Evocative & Poetic:**\n",
       "These names hint at the magic and longevity of dried blooms.\n",
       "\n",
       "1.  **Whispering Stems:** Suggests a gentle, lasting presence.\n",
       "2.  **Echoing Blooms:** Implies beauty that resonates over time.\n",
       "3.  **The Enduring Petal:** Simple, direct, and highlights longevity.\n",
       "4.  **Everbloom Atelier:** Combines lasting beauty with a sense of craftsmanship.\n",
       "5.  **Solstice Stems:** Evokes the changing seasons and natural cycles, with a touch of magic.\n",
       "6.  **Moon Petal:** A bit mystical and ethereal.\n",
       "7.  **Fable & Bloom:** Suggests a story or enchantment within each bouquet.\n",
       "8.  **The Quiet Bloom:** Conveys a serene, understated beauty.\n",
       "9.  **Root & Bloom (or Root & Rust):** Connects to earthy origins and natural aging.\n",
       "\n",
       "**Direct & Descriptive (with a twist):**\n",
       "These clearly state what you do, but with an elegant or memorable edge.\n",
       "\n",
       "10. **The Dried Bloom Co.**\n",
       "11. **Forever Florals**\n",
       "12. **Preserved Petals**\n",
       "13. **Timeless Botanicals**\n",
       "14. **Everlasting Arrangements**\n",
       "15. **Dried & True Flowers:** A playful twist on \"tried and true.\"\n",
       "16. **The Botanical Preserve:** Sounds sophisticated and curated.\n",
       "\n",
       "**Rustic & Earthy:**\n",
       "These names lean into the natural, organic feel of dried flowers.\n",
       "\n",
       "17. **The Rustic Petal**\n",
       "18. **Earthen Blooms**\n",
       "19. **Wood & Bloom**\n",
       "20. **Harvest & Hue:** Evokes the natural colors and origins.\n",
       "21. **The Gathered Stem**\n",
       "22. **Willow & Petal** (if you use a lot of dried willow or similar elements)\n",
       "\n",
       "**Modern & Minimalist:**\n",
       "Short, catchy, and stylish.\n",
       "\n",
       "23. **Everbloom.**\n",
       "24. **The Preserve.**\n",
       "25. **Bloom & Endure.**\n",
       "26. **Petal & Stone:** Implies lasting beauty and natural elements.\n",
       "27. **Dried Co.** (if your brand is very minimalist)\n",
       "\n",
       "**Whimsical & Charming:**\n",
       "Playful and memorable.\n",
       "\n",
       "28. **Dusty Bloom Boutique:** \"Dusty\" gives a nostalgic, vintage feel.\n",
       "29. **The Un-Wilters:** A cute and clever way to highlight their lasting nature.\n",
       "30. **Petal Ponderings:** Suggests thoughtful, unique creations.\n",
       "\n",
       "---\n",
       "\n",
       "**Tips for Choosing:**\n",
       "\n",
       "*   **Say it out loud:** Does it roll off the tongue?\n",
       "*   **Check availability:** Is the name available as a domain name, social media handle, and business registration?\n",
       "*   **Consider your target audience:** Are they looking for rustic charm, modern elegance, or something whimsical?\n",
       "*   **Reflect your brand's aesthetic:** Does the name align with the visual style you envision for your shop?\n",
       "*   **Keep it memorable:** Easy to spell, pronounce, and recall.\n",
       "\n",
       "Good luck with your unique flower shop!"
      ],
      "text/plain": [
       "<IPython.core.display.Markdown object>"
      ]
     },
     "metadata": {},
     "output_type": "display_data"
    }
   ],
   "source": [
    "prompt = \"What do you think could be a good name for a flower shop that specializes in selling bouquets of dried flowers more than fresh flowers?\"\n",
    "\n",
    "response = client.models.generate_content(model=MODEL_ID, contents=prompt)\n",
    "display(Markdown(response.text))"
   ]
  },
  {
   "cell_type": "markdown",
   "metadata": {
    "id": "YrJexRHJYnmC"
   },
   "source": [
    "✅ Recommended. The prompt below is to the point and concise."
   ]
  },
  {
   "cell_type": "code",
   "execution_count": 7,
   "metadata": {
    "id": "VHetn9lCYrXB",
    "tags": []
   },
   "outputs": [
    {
     "data": {
      "text/markdown": [
       "Here are some name suggestions for a flower shop specializing in dried flower bouquets, categorized by the feeling they evoke:\n",
       "\n",
       "**I. Emphasizing Longevity & Preservation:**\n",
       "\n",
       "1.  **Everbloom Botanicals:** Suggests flowers that last forever.\n",
       "2.  **Timeless Petals:** Highlights the enduring beauty.\n",
       "3.  **The Lasting Bloom:** Simple, direct, and elegant.\n",
       "4.  **Eternal Bloom Co.:** A sophisticated take on longevity.\n",
       "5.  **Preserved Posies:** Alliterative and charming.\n",
       "6.  **Heirloom Blooms:** Implies beauty passed down through time.\n",
       "7.  **Perennial Petals:** Evokes the idea of returning beauty, though in a preserved form.\n",
       "\n",
       "**II. Evoking Natural & Earthy Beauty:**\n",
       "\n",
       "8.  **Terra Flora Dried:** \"Terra\" means earth, connecting to natural elements.\n",
       "9.  **The Muted Bloom:** Captures the unique, soft color palette of dried flowers.\n",
       "10. **Ember & Petal:** Suggests warmth, muted tones, and rustic elegance.\n",
       "11. **Bare Bloom:** Simple, highlights the stripped-back, natural state.\n",
       "12. **Dusty Rose Botanicals:** A classic dried flower color, evokes vintage charm.\n",
       "13. **Wild & Wilted:** A more rustic, natural, and slightly unconventional take.\n",
       "14. **Rooted & Dried:** Connects to the plant's origin and its preserved state.\n",
       "\n",
       "**III. Artistic & Craft-Focused:**\n",
       "\n",
       "15. **The Dried Bloomery:** Classic, implies a dedicated workshop.\n",
       "16. **Artisan Blooms & Co.:** Highlights the handcrafted nature.\n",
       "17. **Petal & Stem Studio:** Emphasizes the creation process.\n",
       "18. **Botanical Keepsakes:** Positions the bouquets as treasured items.\n",
       "19. **The Preserved Arrangement:** Direct and elegant.\n",
       "20. **Flora Forged:** Suggests artistry and creation.\n",
       "\n",
       "**IV. Whimsical & Evocative:**\n",
       "\n",
       "21. **Whispers of Bloom:** Poetic, suggests a subtle, lingering beauty.\n",
       "22. **Golden Hour Blooms:** Evokes the soft, warm light often associated with dried tones.\n",
       "23. **The Faded Floral:** Playful and honest about the nature of the flowers.\n",
       "24. **Willow & Bloom:** \"Willow\" can suggest delicate, trailing beauty.\n",
       "25. **Storybook Blooms:** Suggests a magical, nostalgic quality.\n",
       "\n",
       "**V. Modern & Minimalist:**\n",
       "\n",
       "26. **Bloom Dry:** Simple, sleek, and to the point.\n",
       "27. **Dried Co.** (or The Dried Co.): Very modern and streamlined.\n",
       "28. **Petal Preserved:** Concise and elegant.\n",
       "29. **Flora & Dust:** A bit edgy, highlights the unique texture.\n",
       "30. **Dried.** (with a period): Bold and confident.\n",
       "\n",
       "**Tips for Choosing:**\n",
       "\n",
       "*   **Say it out loud:** Does it roll off the tongue?\n",
       "*   **Check for availability:** Is the name (and a corresponding domain/social media handle) available?\n",
       "*   **Consider your target audience:** Are they traditional, modern, rustic, luxurious?\n",
       "*   **Reflect your brand's personality:** Is it elegant, whimsical, edgy, earthy?\n",
       "*   **Make it memorable:** Easy to recall and unique.\n",
       "\n",
       "Good luck with your flower shop!"
      ],
      "text/plain": [
       "<IPython.core.display.Markdown object>"
      ]
     },
     "metadata": {},
     "output_type": "display_data"
    }
   ],
   "source": [
    "prompt = \"Suggest a name for a flower shop that sells bouquets of dried flowers\"\n",
    "\n",
    "response = client.models.generate_content(model=MODEL_ID, contents=prompt)\n",
    "display(Markdown(response.text))"
   ]
  },
  {
   "cell_type": "markdown",
   "metadata": {
    "id": "eXTAvdOHY0OC"
   },
   "source": [
    "### Be specific, and well-defined"
   ]
  },
  {
   "cell_type": "markdown",
   "metadata": {
    "id": "FTH4GEIgY1dp"
   },
   "source": [
    "Suppose that you want to brainstorm creative ways to describe Earth."
   ]
  },
  {
   "cell_type": "markdown",
   "metadata": {
    "id": "o5BmXBiGY4KC"
   },
   "source": [
    "🛑 The prompt below might be a bit too generic (which is certainly OK if you'd like to ask a generic question!)"
   ]
  },
  {
   "cell_type": "code",
   "execution_count": 9,
   "metadata": {
    "id": "eHBaMvv7Y6mR",
    "tags": []
   },
   "outputs": [
    {
     "data": {
      "text/markdown": [
       "Earth, our incredible home, is a truly unique and dynamic planet. It's the **third planet from the Sun** and the only known celestial body to harbor life as we know it.\n",
       "\n",
       "Here's a closer look at what makes Earth so special:\n",
       "\n",
       "1.  **The Habitable Zone (\"Goldilocks Zone\"):** Earth orbits the Sun at just the right distance for liquid water to exist on its surface. If it were closer, water would evaporate; farther, it would freeze. This \"just right\" temperature range is crucial for life.\n",
       "\n",
       "2.  **Abundance of Liquid Water:** Often called the \"Blue Planet,\" Earth's surface is about 71% covered by water, primarily oceans. Water is the solvent of life, essential for all known biological processes. It also plays a massive role in regulating Earth's climate.\n",
       "\n",
       "3.  **A Protective Atmosphere:** Earth's atmosphere is a thin, life-sustaining blanket of gases, primarily nitrogen (about 78%), oxygen (about 21%), argon (about 0.93%), and trace amounts of carbon dioxide and other gases.\n",
       "    *   **Oxygen:** Crucial for respiration in most life forms.\n",
       "    *   **Greenhouse Effect:** Certain gases (like CO2 and water vapor) trap some of the Sun's heat, keeping the planet warm enough to support life. Without it, Earth would be a frozen wasteland.\n",
       "    *   **Protection:** The atmosphere burns up most incoming meteors and shields the surface from harmful solar radiation, especially ultraviolet (UV) rays, thanks to the ozone layer.\n",
       "    *   **Weather:** It's the engine for Earth's weather patterns, distributing heat and moisture around the globe.\n",
       "\n",
       "4.  **A Dynamic Interior and Plate Tectonics:** Earth isn't just a static ball of rock. Its interior is layered:\n",
       "    *   **Crust:** The thin, brittle outer layer we live on.\n",
       "    *   **Mantle:** A thick, semi-solid layer beneath the crust that flows very slowly over geological timescales.\n",
       "    *   **Outer Core:** A liquid layer of iron and nickel. Its convection currents generate Earth's magnetic field.\n",
       "    *   **Inner Core:** A solid ball of iron and nickel at the planet's center, incredibly hot and under immense pressure.\n",
       "    *   **Plate Tectonics:** The crust is broken into large \"plates\" that slowly move atop the mantle. This movement causes earthquakes, volcanic activity, and the formation of mountains, ocean trenches, and continental drift. It's a continuous process that reshapes the Earth's surface.\n",
       "\n",
       "5.  **A Strong Magnetic Field (Magnetosphere):** Generated by the liquid outer core, Earth's magnetic field extends far into space, forming a protective bubble called the magnetosphere. This shield deflects harmful charged particles from the Sun (solar wind) and cosmic rays, preventing them from stripping away our atmosphere and irradiating the surface. It's also responsible for the beautiful auroras (Northern and Southern Lights).\n",
       "\n",
       "6.  **Biodiversity:** Thanks to all these factors, Earth boasts an incredible diversity of life, from microscopic bacteria to gigantic whales. Ecosystems thrive in virtually every corner, from scorching deserts to freezing polar regions and the deepest oceans.\n",
       "\n",
       "7.  **The Moon's Influence:** Earth has a relatively large moon for its size, which plays a vital role:\n",
       "    *   **Tides:** Its gravitational pull is the primary cause of ocean tides.\n",
       "    *   **Stabilizing Tilt:** It helps stabilize Earth's axial tilt (currently around 23.5 degrees), which contributes to stable seasons and a relatively consistent climate over long periods. Without it, Earth's tilt might wobble chaotically, leading to extreme and rapid climate shifts.\n",
       "\n",
       "In essence, Earth is a complex, interconnected system where geology, atmosphere, oceans, and life constantly interact. It's a testament to the delicate balance required for a truly living world."
      ],
      "text/plain": [
       "<IPython.core.display.Markdown object>"
      ]
     },
     "metadata": {},
     "output_type": "display_data"
    }
   ],
   "source": [
    "prompt = \"Tell me about Earth\"\n",
    "\n",
    "response = client.models.generate_content(model=MODEL_ID, contents=prompt)\n",
    "display(Markdown(response.text))"
   ]
  },
  {
   "cell_type": "markdown",
   "metadata": {
    "id": "4iyvEbteZnFL"
   },
   "source": [
    "✅ Recommended. The prompt below is specific and well-defined."
   ]
  },
  {
   "cell_type": "code",
   "execution_count": 8,
   "metadata": {
    "id": "JQ80z8urZnne",
    "tags": []
   },
   "outputs": [
    {
     "data": {
      "text/markdown": [
       "Earth is truly a remarkable anomaly among the planets we know, both within our solar system and from exoplanet observations. Its uniqueness stems from a confluence of specific conditions and features that allowed for the emergence and sustained evolution of complex life.\n",
       "\n",
       "Here's a list of ways Earth stands out:\n",
       "\n",
       "1.  **Abundance of Surface Liquid Water:** While other planets and moons have water (mostly ice or vapor), Earth is the only known planet with vast quantities of stable, liquid water on its surface. Oceans cover over 70% of its surface, critical for dissolving nutrients, regulating temperature, and serving as the cradle of life.\n",
       "\n",
       "2.  **A Continuously Active Plate Tectonics System:** Earth is the only known planet with a global system of active plate tectonics. This process constantly recycles the crust, drives volcanism, creates mountains, and contributes to the long-term carbon cycle, regulating Earth's climate over geological timescales. Without it, CO2 would eventually be locked away, leading to a frozen planet.\n",
       "\n",
       "3.  **A Substantial Oxygen-Rich Atmosphere:** Earth's atmosphere is unique due to its high concentration of free oxygen (around 21%), a direct product of photosynthetic life. This oxygen is vital for complex aerobic life forms. Other planetary atmospheres are dominated by CO2, nitrogen, or hydrogen/helium, and lack significant free oxygen.\n",
       "\n",
       "4.  **A Strong, Global Magnetic Field (Magnetosphere):** Generated by Earth's liquid outer core, this powerful magnetic field deflects harmful charged particles from the solar wind and cosmic rays, protecting the atmosphere from being stripped away and shielding life on the surface from radiation. Mars, for example, lost most of its atmosphere partly due to the lack of a significant global magnetic field.\n",
       "\n",
       "5.  **Presence of a Large Moon That Stabilizes Its Axial Tilt:** Earth's relatively large Moon plays a crucial role in stabilizing Earth's axial tilt (obliquity). This stability prevents chaotic wobbles in Earth's tilt, leading to remarkably stable climate patterns over millions of years, which is essential for the long-term evolution of complex life. Other planets either have no moon or much smaller ones relative to their size.\n",
       "\n",
       "6.  **\"Goldilocks Zone\" Orbital Position:** Earth orbits the Sun at just the right distance where temperatures are suitable for liquid water to exist on its surface. It's not too hot (like Venus) causing water to boil away, and not too cold (like Mars) where water freezes solid.\n",
       "\n",
       "7.  **The Only Known Planet with Complex, Intelligent Life:** While the universe is vast, Earth is, to our current knowledge, the only planet where life has evolved to the level of complex multicellular organisms, and, uniquely, intelligent, self-aware beings capable of technology and space exploration.\n",
       "\n",
       "8.  **The Water Cycle and Weather:** The interaction of liquid water, a gaseous atmosphere, and solar energy creates a dynamic water cycle and complex weather patterns (clouds, rain, snow). This continuous cycling of water is crucial for distributing heat, eroding rocks to release nutrients, and sustaining ecosystems across the planet.\n",
       "\n",
       "9.  **Biodiversity and Self-Sustaining Ecosystems:** Earth hosts an unparalleled diversity of life forms, from microscopic bacteria to enormous whales, all intricately linked in vast, self-sustaining ecosystems that recycle nutrients and regulate the planet's environment.\n",
       "\n",
       "These factors, especially in their unique combination, create a habitable zone that is incredibly stable and supportive of life, making Earth truly unique in our cosmic neighborhood."
      ],
      "text/plain": [
       "<IPython.core.display.Markdown object>"
      ]
     },
     "metadata": {},
     "output_type": "display_data"
    }
   ],
   "source": [
    "prompt = \"Generate a list of ways that makes Earth unique compared to other planets\"\n",
    "\n",
    "response = client.models.generate_content(model=MODEL_ID, contents=prompt)\n",
    "display(Markdown(response.text))"
   ]
  },
  {
   "cell_type": "markdown",
   "metadata": {
    "id": "R5kmfZYHZsJ7"
   },
   "source": [
    "### Ask one task at a time"
   ]
  },
  {
   "cell_type": "markdown",
   "metadata": {
    "id": "rsAezxeYZuUN"
   },
   "source": [
    "🛑 Not recommended. The prompt below has two parts to the question that could be asked separately."
   ]
  },
  {
   "cell_type": "code",
   "execution_count": 12,
   "metadata": {
    "id": "ElywPXpuZtWf",
    "tags": []
   },
   "outputs": [
    {
     "data": {
      "text/markdown": [
       "Let's break down both of your excellent questions!\n",
       "\n",
       "---\n",
       "\n",
       "### What's the Best Method of Boiling Water?\n",
       "\n",
       "The \"best\" method depends on your priorities: speed, energy efficiency, convenience, or volume.\n",
       "\n",
       "1.  **For Speed & Energy Efficiency (typically the \"best\" for everyday use):**\n",
       "    *   **Electric Kettle:**\n",
       "        *   **Why:** It has a submerged heating element that directly heats the water, resulting in very little heat loss to the surrounding air. They're incredibly fast, often faster than a stovetop, and incredibly energy-efficient for the amount of water they boil. Many also have an automatic shut-off feature for safety.\n",
       "        *   **Best for:** Most household uses, tea, coffee, instant noodles.\n",
       "\n",
       "2.  **For Versatility & Large Volumes:**\n",
       "    *   **Stovetop Pot or Kettle (with a lid!):**\n",
       "        *   **Why:** While often slightly slower and less energy-efficient than an electric kettle (due to heat loss from the burner to the air), a stovetop pot is versatile. You can boil very large quantities, and you don't need an extra appliance taking up counter space if you already have a stovetop.\n",
       "        *   **Crucial Tip:** Always use a **lid** on your pot or kettle. This traps steam and heat, significantly speeding up the boiling process and saving energy. Without a lid, a lot of heat escapes into the air, making it much slower.\n",
       "        *   **Best for:** Boiling pasta, potatoes, blanching vegetables, or when you need a very large amount of boiling water.\n",
       "\n",
       "3.  **For Small, Quick Amounts (less common for full boils):**\n",
       "    *   **Microwave:**\n",
       "        *   **Why:** It can heat small amounts of water very quickly.\n",
       "        *   **Caution:** Water heated in a microwave can become \"superheated\" (above its boiling point without visible bubbles) and then violently erupt when disturbed (e.g., by adding a spoon or instant coffee). This is a safety risk. It's also generally not energy-efficient for larger volumes.\n",
       "        *   **Best for:** A single cup of hot water in a pinch, but with caution.\n",
       "\n",
       "**Summary of \"Best\":**\n",
       "For most people, an **electric kettle** offers the best balance of speed, energy efficiency, and convenience for common household needs. If you're boiling large volumes or prefer not to have an extra appliance, a **stovetop pot with a lid** is an excellent choice.\n",
       "\n",
       "---\n",
       "\n",
       "### Why Is the Sky Blue?\n",
       "\n",
       "The blue color of the sky is primarily due to a phenomenon called **Rayleigh Scattering**. Here's how it works:\n",
       "\n",
       "1.  **Sunlight is White Light:** Sunlight, when it reaches Earth, appears white to us, but it's actually composed of all the colors of the rainbow (red, orange, yellow, green, blue, indigo, violet). Each color has a different wavelength – blue and violet light have shorter, smaller wavelengths, while red and orange light have longer, larger wavelengths.\n",
       "\n",
       "2.  **Earth's Atmosphere:** Our atmosphere is made up of various gases, primarily nitrogen (about 78%) and oxygen (about 21%), along with tiny particles of dust, water vapor, etc.\n",
       "\n",
       "3.  **Scattering:** When sunlight enters the atmosphere, it collides with these gas molecules and tiny particles. This collision causes the light to scatter in all directions.\n",
       "\n",
       "4.  **Rayleigh Scattering Principle:**\n",
       "    *   **Shorter wavelengths (blue and violet) are scattered much more effectively** than longer wavelengths (red and orange) by particles that are smaller than the wavelength of light itself (like the molecules of nitrogen and oxygen in the atmosphere).\n",
       "    *   Think of it like waves hitting obstacles: smaller waves are more disrupted by small obstacles than larger waves are.\n",
       "\n",
       "5.  **Why Blue, Not Violet?**\n",
       "    *   Violet light is scattered even more than blue light, but our eyes are more sensitive to blue light.\n",
       "    *   Additionally, the sun's spectrum emits slightly more blue light than violet light that reaches us after passing through some of the atmosphere.\n",
       "    *   So, the combination of stronger scattering of blue/violet light and our eyes' sensitivity to blue light makes the sky appear distinctly blue.\n",
       "\n",
       "**What about other sky colors?**\n",
       "*   **Sunrise/Sunset:** When the sun is low on the horizon, its light has to travel through much more of the atmosphere to reach our eyes. By the time it gets to us, most of the blue and violet light has been scattered away in other directions, leaving the longer-wavelength red, orange, and yellow light to pass straight through, coloring the sky in those hues.\n",
       "*   **Clouds:** Clouds appear white or grey because they are made of larger water droplets or ice crystals, which are bigger than the wavelengths of visible light. These larger particles scatter *all* colors of light more or less equally (this is called Mie scattering), making the cloud appear white or grey (if it's very thick and blocks a lot of light)."
      ],
      "text/plain": [
       "<IPython.core.display.Markdown object>"
      ]
     },
     "metadata": {},
     "output_type": "display_data"
    }
   ],
   "source": [
    "prompt = \"What's the best method of boiling water and why is the sky blue?\"\n",
    "\n",
    "response = client.models.generate_content(model=MODEL_ID, contents=prompt)\n",
    "display(Markdown(response.text))"
   ]
  },
  {
   "cell_type": "markdown",
   "metadata": {
    "id": "ejzahazBZ8vk"
   },
   "source": [
    "✅ Recommended. The prompts below asks one task a time."
   ]
  },
  {
   "cell_type": "code",
   "execution_count": 11,
   "metadata": {
    "id": "C5ckp2F0Z_Ba",
    "tags": []
   },
   "outputs": [
    {
     "data": {
      "text/markdown": [
       "The \"best\" method of boiling water depends on your priorities: **speed, energy efficiency, convenience, and safety.**\n",
       "\n",
       "Here's a breakdown of common methods and their pros and cons:\n",
       "\n",
       "---\n",
       "\n",
       "### **1. Electric Kettle (Overall Best for Most People)**\n",
       "\n",
       "*   **Pros:**\n",
       "    *   **Fastest:** Directly heats the water with an immersed element, minimizing heat loss.\n",
       "    *   **Most Energy Efficient:** Very little wasted heat compared to stovetop methods.\n",
       "    *   **Convenient:** Automatic shut-off when boiled, cordless designs for easy pouring.\n",
       "    *   **Safe:** No open flame, less risk of forgetting it on the stove.\n",
       "    *   **Clean:** Doesn't heat up your kitchen.\n",
       "*   **Cons:**\n",
       "    *   Requires electricity.\n",
       "    *   Initial purchase cost.\n",
       "    *   Takes up counter space.\n",
       "*   **Best for:** Everyday use, tea, coffee, instant noodles, quick boiling for cooking.\n",
       "\n",
       "---\n",
       "\n",
       "### **2. Gas Stovetop (Excellent for Larger Quantities & Control)**\n",
       "\n",
       "*   **Pros:**\n",
       "    *   **Fast (with a good burner):** High BTUs can boil water quickly, especially in large pots.\n",
       "    *   **Versatile:** Can use any size pot.\n",
       "    *   **No electricity needed:** Useful during power outages.\n",
       "    *   **Fine Control:** Easy to adjust heat.\n",
       "*   **Cons:**\n",
       "    *   **Less Energy Efficient:** A lot of heat escapes around the sides of the pot.\n",
       "    *   **Heats Kitchen:** Contributes to ambient temperature.\n",
       "    *   **Open Flame:** Requires more vigilance for safety.\n",
       "*   **Best for:** Boiling large pots for pasta, corn on the cob, blanching vegetables, or when you don't have electricity.\n",
       "\n",
       "---\n",
       "\n",
       "### **3. Electric Stovetop (Coil or Glass-Top)**\n",
       "\n",
       "*   **Pros:**\n",
       "    *   **Versatile:** Can use any size pot.\n",
       "    *   No open flame.\n",
       "*   **Cons:**\n",
       "    *   **Slowest:** Especially coil burners, which take time to heat up and transfer heat.\n",
       "    *   **Least Energy Efficient:** Significant heat loss during transfer.\n",
       "    *   Heats kitchen.\n",
       "*   **Best for:** If this is your only stovetop option, or for larger quantities than a microwave can handle. Generally the least efficient dedicated water-boiling method.\n",
       "\n",
       "---\n",
       "\n",
       "### **4. Microwave (For Small Quantities Only, with Caution)**\n",
       "\n",
       "*   **Pros:**\n",
       "    *   **Quick for tiny amounts:** Good for a single cup of water.\n",
       "    *   No extra equipment needed if you already have a microwave.\n",
       "*   **Cons:**\n",
       "    *   **Not Energy Efficient:** Inefficient for boiling water, especially larger amounts.\n",
       "    *   **Safety Risk (Superheating):** Water can heat beyond its boiling point without bubbling, leading to explosive boiling when disturbed (e.g., adding a tea bag). Use a non-smooth container (like ceramic) or put a non-metallic stir stick in it to give bubbles a nucleation point.\n",
       "    *   No visual cue for when it's boiled.\n",
       "    *   Can't use metal.\n",
       "*   **Best for:** Heating a single mug of water for instant coffee or tea *when no other option is available and safety precautions are followed.*\n",
       "\n",
       "---\n",
       "\n",
       "### **5. Immersion Heater (Niche/Travel)**\n",
       "\n",
       "*   **Pros:**\n",
       "    *   **Portable:** Great for travel or in dorm rooms.\n",
       "    *   Direct heating.\n",
       "*   **Cons:**\n",
       "    *   **Safety Concerns:** Exposed heating element, easy to forget, can scorch containers if water level drops. Not recommended for unsupervised use.\n",
       "    *   Slower than an electric kettle.\n",
       "*   **Best for:** Travel, camping (where electric kettles aren't feasible), or very specific, limited use cases.\n",
       "\n",
       "---\n",
       "\n",
       "### **General Tips for Boiling Water More Efficiently (Regardless of Method):**\n",
       "\n",
       "1.  **Use a Lid:** This is the single most important tip for any stovetop method. A lid traps steam and heat, drastically reducing boiling time and energy use.\n",
       "2.  **Only Boil What You Need:** Don't fill a 2-liter kettle if you only need one cup of tea. Boiling excess water is a waste of time and energy.\n",
       "3.  **Use the Right Size Pot/Kettle:** A wider, shallower pot generally exposes more water to the heat source on a stovetop, but a taller, narrower kettle is more efficient for electric kettles.\n",
       "4.  **Start with Cold Water:** While hot tap water might seem faster, it can contain more impurities from your hot water heater and pipes. Cold water from the tap is generally safer for consumption.\n",
       "5.  **Clean Your Equipment:** Limescale buildup in electric kettles can reduce efficiency. Descale regularly.\n",
       "6.  **Altitude:** Remember that water boils at a lower temperature at higher altitudes, meaning it takes longer to cook things even though it boils faster.\n",
       "\n",
       "---\n",
       "\n",
       "**In summary:**\n",
       "\n",
       "*   For **speed and energy efficiency** for everyday use, an **electric kettle** is usually the winner.\n",
       "*   For **large quantities, versatility, or during power outages**, a **gas stovetop** is excellent.\n",
       "*   Avoid the **microwave** for boiling water unless it's a small amount and you understand the superheating risks."
      ],
      "text/plain": [
       "<IPython.core.display.Markdown object>"
      ]
     },
     "metadata": {},
     "output_type": "display_data"
    }
   ],
   "source": [
    "prompt = \"What's the best method of boiling water?\"\n",
    "\n",
    "response = client.models.generate_content(model=MODEL_ID, contents=prompt)\n",
    "display(Markdown(response.text))"
   ]
  },
  {
   "cell_type": "code",
   "execution_count": 10,
   "metadata": {
    "id": "KwUzhud4aA89",
    "tags": []
   },
   "outputs": [
    {
     "data": {
      "text/markdown": [
       "The sky is blue because of how **sunlight interacts with the Earth's atmosphere**. It's a phenomenon known as **Rayleigh scattering**.\n",
       "\n",
       "Here's a breakdown:\n",
       "\n",
       "1.  **Sunlight is White Light:** Sunlight, which appears white to us, is actually made up of all the colors of the rainbow (a spectrum of visible light), each with a different wavelength. Red light has the longest wavelength, and violet/blue light has the shortest.\n",
       "\n",
       "2.  **The Earth's Atmosphere:** Our atmosphere is composed of tiny gas molecules, primarily nitrogen (about 78%) and oxygen (about 21%). These molecules are much smaller than the wavelength of visible light.\n",
       "\n",
       "3.  **Rayleigh Scattering:** When sunlight enters the atmosphere, it collides with these tiny gas molecules.\n",
       "    *   **Shorter wavelengths (like blue and violet) are scattered much more efficiently** (about 10 times more) than longer wavelengths (like red and yellow). This is because the small size of the molecules is more effective at scattering the smaller, shorter wavelengths.\n",
       "    *   **Longer wavelengths (red, orange, yellow) are not scattered as much** and tend to pass straight through the atmosphere.\n",
       "\n",
       "4.  **Why We See Blue:** Because blue light is scattered in all directions by the tiny molecules in the atmosphere, it appears to come to our eyes from every part of the sky. So, when you look up, you see the blue light that has been scattered towards you, making the sky appear blue.\n",
       "\n",
       "5.  **Why Not Violet?** While violet light actually scatters *even more* than blue, there are two main reasons we don't see a violet sky:\n",
       "    *   **The Sun doesn't emit as much violet light** as it does blue light.\n",
       "    *   **Our eyes are more sensitive to blue light** than to violet light.\n",
       "\n",
       "**What about Sunrises and Sunsets?**\n",
       "\n",
       "At sunrise and sunset, the sun's light has to travel through a much thicker slice of the atmosphere to reach your eyes. This means:\n",
       "*   Even more of the blue and green light gets scattered away (out of your line of sight).\n",
       "*   The longer-wavelength colors (red, orange, and yellow) are left to pass through directly, which is why the sun and the sky around it appear red, orange, or yellow at those times."
      ],
      "text/plain": [
       "<IPython.core.display.Markdown object>"
      ]
     },
     "metadata": {},
     "output_type": "display_data"
    }
   ],
   "source": [
    "prompt = \"Why is the sky blue?\"\n",
    "\n",
    "response = client.models.generate_content(model=MODEL_ID, contents=prompt)\n",
    "display(Markdown(response.text))"
   ]
  },
  {
   "cell_type": "markdown",
   "metadata": {
    "id": "PJIL2RTQaGcT"
   },
   "source": [
    "### Watch out for hallucinations"
   ]
  },
  {
   "cell_type": "markdown",
   "metadata": {
    "id": "8Y8kYxrSaHE9"
   },
   "source": [
    "Although LLMs have been trained on a large amount of data, they can generate text containing statements not grounded in truth or reality; these responses from the LLM are often referred to as \"hallucinations\" due to their limited memorization capabilities. Note that simply prompting the LLM to provide a citation isn't a fix to this problem, as there are instances of LLMs providing false or inaccurate citations. Dealing with hallucinations is a fundamental challenge of LLMs and an ongoing research area, so it is important to be cognizant that LLMs may seem to give you confident, correct-sounding statements that are in fact incorrect.\n",
    "\n",
    "Note that if you intend to use LLMs for the creative use cases, hallucinating could actually be quite useful."
   ]
  },
  {
   "cell_type": "markdown",
   "metadata": {
    "id": "8NY5nAGeaJYS"
   },
   "source": [
    "Try the prompt like the one below repeatedly. We set the temperature to `1.0` so that it takes more risks in its choices. It's possible that it may provide an inaccurate, but confident answer."
   ]
  },
  {
   "cell_type": "code",
   "execution_count": 13,
   "metadata": {
    "id": "QALPjEILaM62",
    "tags": []
   },
   "outputs": [
    {
     "data": {
      "text/markdown": [
       "Today is Friday, January 26, 2024."
      ],
      "text/plain": [
       "<IPython.core.display.Markdown object>"
      ]
     },
     "metadata": {},
     "output_type": "display_data"
    }
   ],
   "source": [
    "generation_config = GenerateContentConfig(temperature=1.0)\n",
    "\n",
    "prompt = \"What day is it today?\"\n",
    "\n",
    "response = client.models.generate_content(model=MODEL_ID, contents=prompt)\n",
    "display(Markdown(response.text))"
   ]
  },
  {
   "cell_type": "markdown",
   "metadata": {
    "id": "BRkwzbgRbhKt"
   },
   "source": [
    "Since LLMs do not have access to real-time information without further integrations, you may have noticed it hallucinates what day it is today in some of the outputs."
   ]
  },
  {
   "cell_type": "markdown",
   "metadata": {
    "id": "3c811e310d02"
   },
   "source": [
    "### Using system instructions to guardrail the model from irrelevant responses\n",
    "\n",
    "How can we attempt to reduce the chances of irrelevant responses and hallucinations?\n",
    "\n",
    "One way is to provide the LLM with [system instructions](https://cloud.google.com/vertex-ai/generative-ai/docs/learn/prompts/system-instruction-introduction).\n",
    "\n",
    "Let's see how system instructions works and how you can use them to reduce hallucinations or irrelevant questions for a travel chatbot.\n",
    "\n",
    "Suppose we ask a simple question about one of Italy's most famous tourist spots."
   ]
  },
  {
   "cell_type": "code",
   "execution_count": 14,
   "metadata": {
    "id": "rB6zJU76biFK",
    "tags": []
   },
   "outputs": [
    {
     "data": {
      "text/markdown": [
       "Milan offers a wealth of incredible sightseeing opportunities! For the absolute best and most iconic place for sightseeing in Milan, I highly recommend the **Duomo di Milano (Milan Cathedral)**.\n",
       "\n",
       "It's an awe-inspiring Gothic cathedral that took nearly six centuries to complete and is truly magnificent both inside and out. You can:\n",
       "\n",
       "*   Admire its intricate facade from the Piazza del Duomo.\n",
       "*   Go inside to see its stunning stained glass windows and grand architecture.\n",
       "*   Take an elevator or walk up to the **Duomo Terraces** for breathtaking panoramic views of Milan and, on a clear day, even the Alps.\n",
       "\n",
       "It's centrally located and easily accessible, making it the perfect starting point for exploring the city."
      ],
      "text/plain": [
       "<IPython.core.display.Markdown object>"
      ]
     },
     "metadata": {},
     "output_type": "display_data"
    }
   ],
   "source": [
    "generation_config = GenerateContentConfig(temperature=1.0)\n",
    "\n",
    "chat = client.chats.create(\n",
    "    model=MODEL_ID,\n",
    "    config=GenerateContentConfig(\n",
    "        system_instruction=[\n",
    "            \"Hello! You are an AI chatbot for a travel web site.\",\n",
    "            \"Your mission is to provide helpful queries for travelers.\",\n",
    "            \"Remember that before you answer a question, you must check to see if it complies with your mission.\",\n",
    "            \"If not, you can say, Sorry I can't answer that question.\",\n",
    "        ]\n",
    "    ),\n",
    ")\n",
    "\n",
    "prompt = \"What is the best place for sightseeing in Milan, Italy?\"\n",
    "\n",
    "response = chat.send_message(prompt)\n",
    "display(Markdown(response.text))"
   ]
  },
  {
   "cell_type": "markdown",
   "metadata": {
    "id": "WZa-Qcf9cF4A"
   },
   "source": [
    "Now let us pretend to be a user asks the chatbot a question that is unrelated to travel."
   ]
  },
  {
   "cell_type": "code",
   "execution_count": 15,
   "metadata": {
    "id": "AZKBIDr2cGnu",
    "tags": []
   },
   "outputs": [
    {
     "data": {
      "text/markdown": [
       "Sorry, I can't answer that question."
      ],
      "text/plain": [
       "<IPython.core.display.Markdown object>"
      ]
     },
     "metadata": {},
     "output_type": "display_data"
    }
   ],
   "source": [
    "prompt = \"How do I make pizza dough at home?\"\n",
    "\n",
    "response = chat.send_message(prompt)\n",
    "display(Markdown(response.text))"
   ]
  },
  {
   "cell_type": "markdown",
   "metadata": {
    "id": "JiUYIhwpctCy"
   },
   "source": [
    "You can see that this way, a guardrail in the prompt prevented the chatbot from veering off course."
   ]
  },
  {
   "cell_type": "markdown",
   "metadata": {
    "id": "ZuuDhA37cvmP"
   },
   "source": [
    "### Turn generative tasks into classification tasks to reduce output variability"
   ]
  },
  {
   "cell_type": "markdown",
   "metadata": {
    "id": "kUCUrsUzczmb"
   },
   "source": [
    "#### Generative tasks lead to higher output variability"
   ]
  },
  {
   "cell_type": "markdown",
   "metadata": {
    "id": "a1xASHAkc46n"
   },
   "source": [
    "The prompt below results in an open-ended response, useful for brainstorming, but response is highly variable."
   ]
  },
  {
   "cell_type": "code",
   "execution_count": 16,
   "metadata": {
    "id": "nPfXQWIacwRf",
    "tags": []
   },
   "outputs": [
    {
     "data": {
      "text/markdown": [
       "That's a fantastic goal! The best way to improve programming skills is through *active engagement* and *building things*. Here are a few recommendations, choose the one that excites you most, or try a bit of each!\n",
       "\n",
       "---\n",
       "\n",
       "### 1. Build a Personal Project (Start Small, Dream Big)\n",
       "\n",
       "This is hands-down the most impactful way to learn. You'll encounter real-world problems, debugging challenges, and the satisfaction of creating something useful or fun.\n",
       "\n",
       "*   **What it is:** Pick an idea, any idea, and try to build it from scratch.\n",
       "*   **Why it's good:**\n",
       "    *   **Problem-solving:** You'll face countless mini-problems and learn to break them down.\n",
       "    *   **Deep Learning:** You'll learn specific libraries, frameworks, and tools because you *need* them for your project.\n",
       "    *   **Motivation:** Building something you care about keeps you engaged.\n",
       "    *   **Portfolio:** You'll have something tangible to show off for college applications or future opportunities.\n",
       "*   **How to start:**\n",
       "    1.  **Brainstorm Ideas:** Think about things that annoy you, things you wish existed, or simple games you enjoy.\n",
       "        *   **Automation:** A script to organize your messy downloads folder, a program to send you daily weather updates, a tool to convert units.\n",
       "        *   **Games:** A text-based adventure game (like Zork), Tic-Tac-Toe, Hangman, a simple platformer (using Pygame or similar).\n",
       "        *   **Web App (simple):** A to-do list, a calculator, a personal blog, a very basic social media clone.\n",
       "        *   **Data Analysis:** A script to analyze your Spotify listening habits, a program to visualize local COVID data.\n",
       "    2.  **Pick One (and keep it simple!):** Your first project should be something you can finish in a few days or weeks. Don't try to build the next Facebook.\n",
       "    3.  **Choose Your Language/Tools:** Pick a language you're comfortable with (Python is great for beginners) and look up relevant libraries.\n",
       "    4.  **Break it Down:** Don't think of \"build a game.\" Think \"make the character move,\" then \"add jumping,\" then \"add collision detection.\"\n",
       "    5.  **Google is Your Best Friend:** You *will* get stuck. Use Google, Stack Overflow, and YouTube tutorials. Learning how to find answers is a crucial programming skill.\n",
       "*   **Pro-Tip:** Once you finish the core functionality, add \"stretch goals\" to keep learning (e.g., make your to-do list save to a file, add more levels to your game).\n",
       "\n",
       "---\n",
       "\n",
       "### 2. Participate in Online Coding Challenges/Competitions (Advent of Code, LeetCode)\n",
       "\n",
       "This is like going to the gym for your coding muscles. It hones your algorithmic thinking and efficiency.\n",
       "\n",
       "*   **What it is:** Websites provide programming problems (often with varying difficulty levels) that you solve using any language.\n",
       "*   **Why it's good:**\n",
       "    *   **Algorithmic Thinking:** Improves your ability to think logically and break down complex problems into smaller steps.\n",
       "    *   **Data Structures:** You'll naturally learn about arrays, lists, dictionaries, trees, etc., as you find the most efficient ways to store and manipulate data.\n",
       "    *   **Efficiency:** Challenges often have time/memory limits, forcing you to write optimized code.\n",
       "    *   **Debugging:** You get immediate feedback on whether your solution is correct or not, forcing you to debug.\n",
       "    *   **Consistency:** Daily or weekly challenges encourage regular practice.\n",
       "*   **How to start:**\n",
       "    1.  **Advent of Code (Seasonal - December):** This is fantastic! Every December, a new coding puzzle is released daily. They start easy and get progressively harder. It's themed, fun, and attracts a huge community.\n",
       "    2.  **LeetCode / HackerRank:** These platforms have thousands of problems categorized by difficulty and topic. Start with the \"Easy\" problems.\n",
       "    3.  **Codecademy / freeCodeCamp:** These also offer interactive coding challenges integrated into their learning paths.\n",
       "*   **Pro-Tip:** Don't just solve the problem. Look at other people's solutions after you've solved it (especially for Advent of Code) to see different approaches and learn more efficient ways to do things.\n",
       "\n",
       "---\n",
       "\n",
       "### 3. Contribute to Open Source (Even Small Contributions)\n",
       "\n",
       "This might sound intimidating, but it's an incredible way to learn real-world development practices.\n",
       "\n",
       "*   **What it is:** Open-source projects are software projects whose source code is freely available and can be modified and distributed by anyone. Contributing means helping improve these projects.\n",
       "*   **Why it's good:**\n",
       "    *   **Version Control (Git/GitHub):** You'll learn essential tools for collaborative development.\n",
       "    *   **Reading Code:** You'll learn to understand and navigate large codebases written by others.\n",
       "    *   **Code Review:** Your code will be reviewed by experienced developers, providing invaluable feedback.\n",
       "    *   **Collaboration:** You'll experience working as part of a development team.\n",
       "    *   **Real-World Impact:** Your contributions can genuinely help others.\n",
       "*   **How to start:**\n",
       "    1.  **Learn Git and GitHub:** Start with a simple tutorial on how to use Git for version control and how to push code to GitHub. This is non-negotiable for collaborative development.\n",
       "    2.  **Find \"Beginner-Friendly\" Projects:** Look for projects with a `good first issue` or `help wanted` tag on GitHub. Many projects actively welcome new contributors.\n",
       "    3.  **Start Small:** Your first contribution might be fixing a typo in the documentation, improving an error message, or adding a small feature.\n",
       "    4.  **Read the Contribution Guidelines:** Every project has a `CONTRIBUTING.md` file that explains how to submit changes.\n",
       "*   **Pro-Tip:** Don't be afraid to ask questions! The open-source community is generally very welcoming to new contributors.\n",
       "\n",
       "---\n",
       "\n",
       "### General Advice for High School Programmers:\n",
       "\n",
       "*   **Learn Git and GitHub:** Seriously, this is a fundamental skill for *any* programmer. Get comfortable with it early.\n",
       "*   **Don't Be Afraid to Fail (and Debug!):** Programming is 90% debugging. Embrace errors as learning opportunities.\n",
       "*   **Use Online Resources:** Google, Stack Overflow, YouTube, freeCodeCamp, Codecademy, W3Schools – they are invaluable.\n",
       "*   **Find a Community:** Join a local high school coding club, an online Discord server, or subreddits like r/learnprogramming. Support and shared learning are powerful.\n",
       "*   **Show Off Your Work:** Put your projects on GitHub. This builds a portfolio and motivates you to keep going.\n",
       "*   **Have Fun!** If it feels like a chore, you might be doing the wrong kind of activity for *you*. Find what makes you curious and excited.\n",
       "\n",
       "Pick one or two of these suggestions that sound most appealing to you, and just *start*. Good luck!"
      ],
      "text/plain": [
       "<IPython.core.display.Markdown object>"
      ]
     },
     "metadata": {},
     "output_type": "display_data"
    }
   ],
   "source": [
    "prompt = \"I'm a high school student. Recommend me a programming activity to improve my skills.\"\n",
    "\n",
    "response = client.models.generate_content(model=MODEL_ID, contents=prompt)\n",
    "display(Markdown(response.text))"
   ]
  },
  {
   "cell_type": "markdown",
   "metadata": {
    "id": "iAmm9wPYc_1o"
   },
   "source": [
    "#### Classification tasks reduces output variability"
   ]
  },
  {
   "cell_type": "markdown",
   "metadata": {
    "id": "VvRpK_0GdCpf"
   },
   "source": [
    "The prompt below results in a choice and may be useful if you want the output to be easier to control."
   ]
  },
  {
   "cell_type": "code",
   "execution_count": 17,
   "metadata": {
    "id": "kYDKh0r2dAqo",
    "tags": []
   },
   "outputs": [
    {
     "data": {
      "text/markdown": [
       "That's a great question, and it shows you're thinking proactively about your future! For a high school student, the choice of a first programming language is crucial because it sets the foundation for how you approach problem-solving and what doors open up for you.\n",
       "\n",
       "Here's my suggestion, along with the reasoning:\n",
       "\n",
       "---\n",
       "\n",
       "**My Primary Suggestion: Learn Python**\n",
       "\n",
       "**Why Python?**\n",
       "\n",
       "1.  **Beginner-Friendly Syntax:** Python is renowned for its readability. Its syntax is often described as being very clear and concise, almost like plain English. This makes it much easier for beginners to grasp fundamental programming concepts without getting bogged down by complex syntax rules.\n",
       "2.  **Incredibly Versatile:** Python is a true general-purpose language. You can use it for:\n",
       "    *   **Web Development:** Building websites (with frameworks like Django or Flask).\n",
       "    *   **Data Science & AI/Machine Learning:** This is where Python shines, with powerful libraries like NumPy, Pandas, TensorFlow, and PyTorch. If you're even slightly interested in AI, data analysis, or big data, Python is the undisputed king.\n",
       "    *   **Automation & Scripting:** Automate repetitive tasks on your computer (e.g., organizing files, sending emails).\n",
       "    *   **Game Development:** Simple games using libraries like Pygame.\n",
       "    *   **Desktop Applications:** Building software for your computer.\n",
       "    *   **Scientific Computing:** Used widely in academic and research fields.\n",
       "3.  **Huge Community & Resources:** Because Python is so popular, there's an enormous amount of online documentation, tutorials, courses (many free!), and a vibrant community ready to help you if you get stuck.\n",
       "4.  **Immediate Gratification:** You can write small scripts that do something useful or fun very quickly, which is great for motivation.\n",
       "\n",
       "**Who is Python Best For?**\n",
       "*   Students who are new to programming and want an easy entry point.\n",
       "*   Students interested in data, AI, automation, or general-purpose problem-solving.\n",
       "*   Students who aren't yet sure what specific area of computer science they want to pursue, as Python keeps many doors open.\n",
       "\n",
       "---\n",
       "\n",
       "**A Strong Second Option: Learn JavaScript**\n",
       "\n",
       "**Why JavaScript?**\n",
       "\n",
       "1.  **Language of the Web (and Beyond):** If you're passionate about building interactive websites and web applications, JavaScript is non-negotiable. It runs directly in web browsers, making dynamic and engaging user experiences possible.\n",
       "2.  **Visible Results:** You can immediately see the impact of your code in a web browser. This can be incredibly motivating!\n",
       "3.  **Full-Stack Capabilities:** With Node.js, JavaScript can also be used on the server-side (backend), meaning you can build entire web applications (frontend and backend) using just one language.\n",
       "4.  **High Demand:** JavaScript developers are in high demand across many industries.\n",
       "\n",
       "**Who is JavaScript Best For?**\n",
       "*   Students who are specifically interested in web design, web development, and creating interactive user interfaces.\n",
       "*   Students who want to build mobile apps (with frameworks like React Native).\n",
       "*   Students who want to see immediate, visual results of their coding efforts.\n",
       "\n",
       "---\n",
       "\n",
       "**Why NOT Fortran (for a high school student learning their first language)?**\n",
       "\n",
       "**Fortran** (short for FORmula TRANslation) is a powerful and very fast language, but it's highly specialized.\n",
       "\n",
       "1.  **Niche Application:** Fortran is primarily used in high-performance scientific and numerical computing, especially in fields like physics, engineering simulations, weather forecasting, and supercomputing. It's excellent for crunching numbers extremely efficiently.\n",
       "2.  **Steeper Learning Curve (for modern paradigms):** While it's powerful, its paradigms and typical use cases are less aligned with what a high school student would likely find engaging or broadly useful for a first language.\n",
       "3.  **Limited General Purpose Use:** You wouldn't use Fortran to build a website, a mobile app, or automate common desktop tasks. Its job market is very specific and usually requires advanced degrees in scientific or engineering fields.\n",
       "4.  **Less Immediate Gratification:** The types of problems Fortran solves are usually complex mathematical models, which might not be as visually appealing or immediately gratifying as building a small game in Python or an interactive web page in JavaScript.\n",
       "\n",
       "**Who is Fortran Best For?**\n",
       "*   Advanced students or professionals who are specifically pursuing a career in high-performance scientific computing, computational physics, or engineering.\n",
       "*   Someone who *knows* they need to optimize numerical calculations to an extreme degree.\n",
       "\n",
       "---\n",
       "\n",
       "**In Summary for You:**\n",
       "\n",
       "*   **Go with Python** if you want the most versatile, beginner-friendly language that opens doors to many exciting fields (AI, data, general programming).\n",
       "*   **Consider JavaScript** if you're passionate about building things for the web and seeing immediate visual results.\n",
       "\n",
       "**My strong recommendation for a high school student is to start with **Python**. It will teach you core programming concepts in an approachable way, and its broad utility means you can explore various interests without having to switch languages immediately.\n",
       "\n",
       "No matter which you choose, the most important thing is to **start building small projects** once you learn the basics. That's where the real learning happens and where you'll discover what you truly enjoy! Good luck!"
      ],
      "text/plain": [
       "<IPython.core.display.Markdown object>"
      ]
     },
     "metadata": {},
     "output_type": "display_data"
    }
   ],
   "source": [
    "prompt = \"\"\"I'm a high school student. Which of these activities do you suggest and why:\n",
    "a) learn Python\n",
    "b) learn JavaScript\n",
    "c) learn Fortran\n",
    "\"\"\"\n",
    "\n",
    "response = client.models.generate_content(model=MODEL_ID, contents=prompt)\n",
    "display(Markdown(response.text))"
   ]
  },
  {
   "cell_type": "markdown",
   "metadata": {
    "id": "iTd60b1GdIsx"
   },
   "source": [
    "### Improve response quality by including examples"
   ]
  },
  {
   "cell_type": "markdown",
   "metadata": {
    "id": "yJi44NejdJYE"
   },
   "source": [
    "Another way to improve response quality is to add examples in your prompt. The LLM learns in-context from the examples on how to respond. Typically, one to five examples (shots) are enough to improve the quality of responses. Including too many examples can cause the model to over-fit the data and reduce the quality of responses.\n",
    "\n",
    "Similar to classical model training, the quality and distribution of the examples is very important. Pick examples that are representative of the scenarios that you need the model to learn, and keep the distribution of the examples (e.g. number of examples per class in the case of classification) aligned with your actual distribution."
   ]
  },
  {
   "cell_type": "markdown",
   "metadata": {
    "id": "sMbLginWdOKs"
   },
   "source": [
    "#### Zero-shot prompt"
   ]
  },
  {
   "cell_type": "markdown",
   "metadata": {
    "id": "Crh2Loi2dQ0v"
   },
   "source": [
    "Below is an example of zero-shot prompting, where you don't provide any examples to the LLM within the prompt itself."
   ]
  },
  {
   "cell_type": "code",
   "execution_count": 18,
   "metadata": {
    "id": "-7myRc-SdTQ4",
    "tags": []
   },
   "outputs": [
    {
     "data": {
      "text/markdown": [
       "Sentiment: Positive"
      ],
      "text/plain": [
       "<IPython.core.display.Markdown object>"
      ]
     },
     "metadata": {},
     "output_type": "display_data"
    }
   ],
   "source": [
    "prompt = \"\"\"Decide whether a Tweet's sentiment is positive, neutral, or negative.\n",
    "\n",
    "Tweet: I loved the new YouTube video you made!\n",
    "Sentiment:\n",
    "\"\"\"\n",
    "\n",
    "response = client.models.generate_content(model=MODEL_ID, contents=prompt)\n",
    "display(Markdown(response.text))"
   ]
  },
  {
   "cell_type": "markdown",
   "metadata": {
    "id": "ucRtPn9SdL64"
   },
   "source": [
    "#### One-shot prompt"
   ]
  },
  {
   "cell_type": "markdown",
   "metadata": {
    "id": "rs0gQH2vdYBi"
   },
   "source": [
    "Below is an example of one-shot prompting, where you provide one example to the LLM within the prompt to give some guidance on what type of response you want."
   ]
  },
  {
   "cell_type": "code",
   "execution_count": 19,
   "metadata": {
    "id": "iEq-KxGYdaT5",
    "tags": []
   },
   "outputs": [
    {
     "data": {
      "text/markdown": [
       "negative"
      ],
      "text/plain": [
       "<IPython.core.display.Markdown object>"
      ]
     },
     "metadata": {},
     "output_type": "display_data"
    }
   ],
   "source": [
    "prompt = \"\"\"Decide whether a Tweet's sentiment is positive, neutral, or negative.\n",
    "\n",
    "Tweet: I loved the new YouTube video you made!\n",
    "Sentiment: positive\n",
    "\n",
    "Tweet: That was awful. Super boring 😠\n",
    "Sentiment:\n",
    "\"\"\"\n",
    "\n",
    "response = client.models.generate_content(model=MODEL_ID, contents=prompt)\n",
    "display(Markdown(response.text))"
   ]
  },
  {
   "cell_type": "markdown",
   "metadata": {
    "id": "JnKLjJzmdfL_"
   },
   "source": [
    "#### Few-shot prompt"
   ]
  },
  {
   "cell_type": "markdown",
   "metadata": {
    "id": "6Zv-9F5OdgI_"
   },
   "source": [
    "Below is an example of few-shot prompting, where you provide a few examples to the LLM within the prompt to give some guidance on what type of response you want."
   ]
  },
  {
   "cell_type": "code",
   "execution_count": 20,
   "metadata": {
    "id": "u37P9tG4dk9S",
    "tags": []
   },
   "outputs": [
    {
     "data": {
      "text/markdown": [
       "positive"
      ],
      "text/plain": [
       "<IPython.core.display.Markdown object>"
      ]
     },
     "metadata": {},
     "output_type": "display_data"
    }
   ],
   "source": [
    "prompt = \"\"\"Decide whether a Tweet's sentiment is positive, neutral, or negative.\n",
    "\n",
    "Tweet: I loved the new YouTube video you made!\n",
    "Sentiment: positive\n",
    "\n",
    "Tweet: That was awful. Super boring 😠\n",
    "Sentiment: negative\n",
    "\n",
    "Tweet: Something surprised me about this video - it was actually original. It was not the same old recycled stuff that I always see. Watch it - you will not regret it.\n",
    "Sentiment:\n",
    "\"\"\"\n",
    "\n",
    "response = client.models.generate_content(model=MODEL_ID, contents=prompt)\n",
    "display(Markdown(response.text))"
   ]
  },
  {
   "cell_type": "markdown",
   "metadata": {
    "id": "wDMD3xb2dvX6"
   },
   "source": [
    "#### Choosing between zero-shot, one-shot, few-shot prompting methods"
   ]
  },
  {
   "cell_type": "markdown",
   "metadata": {
    "id": "s92W0YpNdxJp"
   },
   "source": [
    "Which prompt technique to use will solely depends on your goal. The zero-shot prompts are more open-ended and can give you creative answers, while one-shot and few-shot prompts teach the model how to behave so you can get more predictable answers that are consistent with the examples provided."
   ]
  }
 ],
 "metadata": {
  "colab": {
   "name": "intro_prompt_design.ipynb",
   "toc_visible": true
  },
  "environment": {
   "kernel": "conda-base-py",
   "name": "workbench-notebooks.m131",
   "type": "gcloud",
   "uri": "us-docker.pkg.dev/deeplearning-platform-release/gcr.io/workbench-notebooks:m131"
  },
  "kernelspec": {
   "display_name": "Python 3 (ipykernel) (Local) (Local)",
   "language": "python",
   "name": "conda-base-py"
  },
  "language_info": {
   "codemirror_mode": {
    "name": "ipython",
    "version": 3
   },
   "file_extension": ".py",
   "mimetype": "text/x-python",
   "name": "python",
   "nbconvert_exporter": "python",
   "pygments_lexer": "ipython3",
   "version": "3.10.18"
  }
 },
 "nbformat": 4,
 "nbformat_minor": 4
}
