{
 "cells": [
  {
   "cell_type": "code",
   "execution_count": 6,
   "id": "34c66063-cc4f-4edb-91e3-95298a9cf9ea",
   "metadata": {
    "tags": []
   },
   "outputs": [
    {
     "name": "stdout",
     "output_type": "stream",
     "text": [
      "Conquer Nature: Your Trail, Your Pace.\n"
     ]
    }
   ],
   "source": [
    "from google import genai\n",
    "from google.genai import types\n",
    "import base64\n",
    "\n",
    "def generate():\n",
    "  client = genai.Client(\n",
    "      vertexai=True,\n",
    "      project=\"qwiklabs-gcp-01-68542f3f2dad\",\n",
    "      location=\"us-east1\",\n",
    "  )\n",
    "\n",
    "  msg1_text1 = types.Part.from_text(text=\"\"\"Input: Write a tagline for our new trail shoes product line. Make sure to include the keyword 'nature' in there.\n",
    "\n",
    "Give the output for the input just like from the examples provided to you.\n",
    "\n",
    "Here's some more information about the product to help you:\n",
    "\n",
    "Product Attributes: For trek racing, competitive.\n",
    "Target Audience: Athletes\n",
    "Emotional resonance: Disciplined, Steady\"\"\")\n",
    "\n",
    "  si_text1 = \"\"\"Cymbal Direct is partnering with an outdoor gear retailer. They're launching a new line of products designed to encourage young people to explore the outdoors. Help them create catchy taglines for this product line.\n",
    "  \n",
    "  Here's some examples for the input that will be given to you and the expected output.\n",
    "  \n",
    "  1.\n",
    "  Input: Write a tagline for a durable backpack designed for hikers that makes them feel prepared. Consider styles like minimalist.\n",
    "  Output: Built for the Journey: Your Adventure Essentials.\n",
    "  \n",
    "  2.\n",
    "  Input: Write a tagline for an outdoor jacket that is made with sustainable materials and practices.\n",
    "  Output: Made Responsibly: Nature With A Peace of Mind\n",
    "  \"\"\"\n",
    "\n",
    "  model = \"gemini-2.0-flash-001\"\n",
    "  contents = [\n",
    "    types.Content(\n",
    "      role=\"user\",\n",
    "      parts=[\n",
    "        msg1_text1\n",
    "      ]\n",
    "    ),\n",
    "  ]\n",
    "\n",
    "  generate_content_config = types.GenerateContentConfig(\n",
    "    temperature = 1.2,\n",
    "    top_p = 0.85,\n",
    "    max_output_tokens = 424,\n",
    "    safety_settings = [types.SafetySetting(\n",
    "      category=\"HARM_CATEGORY_HATE_SPEECH\",\n",
    "      threshold=\"OFF\"\n",
    "    ),types.SafetySetting(\n",
    "      category=\"HARM_CATEGORY_DANGEROUS_CONTENT\",\n",
    "      threshold=\"OFF\"\n",
    "    ),types.SafetySetting(\n",
    "      category=\"HARM_CATEGORY_SEXUALLY_EXPLICIT\",\n",
    "      threshold=\"OFF\"\n",
    "    ),types.SafetySetting(\n",
    "      category=\"HARM_CATEGORY_HARASSMENT\",\n",
    "      threshold=\"OFF\"\n",
    "    )],\n",
    "    system_instruction=[types.Part.from_text(text=si_text1)],\n",
    "  )\n",
    "\n",
    "  for chunk in client.models.generate_content_stream(\n",
    "    model = model,\n",
    "    contents = contents,\n",
    "    config = generate_content_config,\n",
    "    ):\n",
    "    print(chunk.text, end=\"\")\n",
    "\n",
    "generate()"
   ]
  },
  {
   "cell_type": "code",
   "execution_count": null,
   "id": "82a08001-1827-4186-9986-afb105e4d368",
   "metadata": {},
   "outputs": [],
   "source": []
  }
 ],
 "metadata": {
  "environment": {
   "kernel": "conda-base-py",
   "name": "workbench-notebooks.m131",
   "type": "gcloud",
   "uri": "us-docker.pkg.dev/deeplearning-platform-release/gcr.io/workbench-notebooks:m131"
  },
  "kernelspec": {
   "display_name": "Python 3 (ipykernel) (Local)",
   "language": "python",
   "name": "conda-base-py"
  },
  "language_info": {
   "codemirror_mode": {
    "name": "ipython",
    "version": 3
   },
   "file_extension": ".py",
   "mimetype": "text/x-python",
   "name": "python",
   "nbconvert_exporter": "python",
   "pygments_lexer": "ipython3",
   "version": "3.10.18"
  }
 },
 "nbformat": 4,
 "nbformat_minor": 5
}
